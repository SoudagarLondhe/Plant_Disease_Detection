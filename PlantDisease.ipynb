{
  "cells": [
    {
      "cell_type": "code",
      "execution_count": null,
      "metadata": {
        "colab": {
          "base_uri": "https://localhost:8080/"
        },
        "id": "C71HOmBWRqHU",
        "outputId": "df1ee102-48bd-4159-88eb-7dcc63eb5258"
      },
      "outputs": [
        {
          "output_type": "stream",
          "name": "stdout",
          "text": [
            "Mounted at /content/gdrive\n"
          ]
        }
      ],
      "source": [
        "from google.colab import drive\n",
        "drive.mount('/content/gdrive')"
      ]
    },
    {
      "cell_type": "code",
      "source": [
        "%cd '/content/gdrive/My Drive/Colab Notebooks'"
      ],
      "metadata": {
        "colab": {
          "base_uri": "https://localhost:8080/"
        },
        "id": "kX4rZ_0OEc9L",
        "outputId": "3b57425d-cd94-4bed-9bb9-d98adf2a401c"
      },
      "execution_count": null,
      "outputs": [
        {
          "output_type": "stream",
          "name": "stdout",
          "text": [
            "/content/gdrive/My Drive/Colab Notebooks\n"
          ]
        }
      ]
    },
    {
      "cell_type": "code",
      "source": [
        "import numpy as np\n",
        "import pickle\n",
        "import cv2\n",
        "from os import listdir\n",
        "from sklearn.preprocessing import LabelBinarizer\n",
        "from keras.models import Sequential\n",
        "from tensorflow.keras.layers import BatchNormalization\n",
        "from keras.layers.convolutional import Conv2D\n",
        "from keras.layers.convolutional import MaxPooling2D\n",
        "from keras.layers.core import Activation, Flatten, Dropout, Dense\n",
        "from keras import backend as K\n",
        "from keras.preprocessing.image import ImageDataGenerator\n",
        "from tensorflow.keras.optimizers import Adam\n",
        "from keras.preprocessing import image\n",
        "from keras.preprocessing.image import img_to_array\n",
        "from sklearn.preprocessing import MultiLabelBinarizer\n",
        "from sklearn.model_selection import train_test_split\n",
        "import matplotlib.pyplot as plt"
      ],
      "metadata": {
        "id": "Xj_XZJFIEfy3"
      },
      "execution_count": null,
      "outputs": []
    },
    {
      "cell_type": "code",
      "source": [
        "EPOCHS = 35\n",
        "INIT_LR = 1e-3\n",
        "BS = 32\n",
        "default_image_size = tuple((100,100))\n",
        "image_size = 0\n",
        "directory_root = 'PlantVillage/'\n",
        "width=100\n",
        "height=100\n",
        "depth=3"
      ],
      "metadata": {
        "id": "KR0_Dc0EFb-R"
      },
      "execution_count": null,
      "outputs": []
    },
    {
      "cell_type": "markdown",
      "source": [
        "Function to convert images to array"
      ],
      "metadata": {
        "id": "KacnrQz-Fgzz"
      }
    },
    {
      "cell_type": "code",
      "source": [
        "def convert_image_to_array(image_dir):\n",
        "    try:\n",
        "        image = cv2.imread(image_dir)\n",
        "        if image is not None :\n",
        "            image = cv2.resize(image, default_image_size)\n",
        "            return img_to_array(image)\n",
        "        else :\n",
        "            return np.array([])\n",
        "    except Exception as e:\n",
        "        print(f\"Error : {e}\")\n",
        "        return None"
      ],
      "metadata": {
        "id": "Tp0KoU6XFhVz"
      },
      "execution_count": null,
      "outputs": []
    },
    {
      "cell_type": "markdown",
      "source": [
        "Fetch images from directory"
      ],
      "metadata": {
        "id": "fv1guCEyFkIe"
      }
    },
    {
      "cell_type": "code",
      "source": [
        "image_list, label_list = [], []\n",
        "try:\n",
        "    print(\"[INFO] Loading images ...\")\n",
        "    root_dir = listdir(directory_root)\n",
        "    for directory in root_dir :\n",
        "        # remove .DS_Store from list\n",
        "        if directory == \".DS_Store\" :\n",
        "            root_dir.remove(directory)\n",
        "\n",
        "    for plant_folder in root_dir :\n",
        "        plant_disease_folder_list = listdir(f\"{directory_root}/{plant_folder}\")\n",
        "\n",
        "        for disease_folder in plant_disease_folder_list :\n",
        "            # remove .DS_Store from list\n",
        "            if disease_folder == \".DS_Store\" :\n",
        "                plant_disease_folder_list.remove(disease_folder)\n",
        "\n",
        "        for plant_disease_folder in plant_disease_folder_list:\n",
        "            print(f\"[INFO] Processing {plant_disease_folder} ...\")\n",
        "            plant_disease_image_list = listdir(f\"{directory_root}/{plant_folder}/{plant_disease_folder}/\")\n",
        "\n",
        "            for single_plant_disease_image in plant_disease_image_list :\n",
        "                if single_plant_disease_image == \".DS_Store\" :\n",
        "                    plant_disease_image_list.remove(single_plant_disease_image)\n",
        "\n",
        "            for image in plant_disease_image_list[:250]:\n",
        "                image_directory = f\"{directory_root}/{plant_folder}/{plant_disease_folder}/{image}\"\n",
        "                if image_directory.endswith(\".jpg\") == True or image_directory.endswith(\".JPG\") == True:\n",
        "                    image_list.append(convert_image_to_array(image_directory))\n",
        "                    label_list.append(plant_disease_folder)\n",
        "    print(\"[INFO] Image loading completed\")\n",
        "except Exception as e:\n",
        "    print(f\"Error : {e}\")"
      ],
      "metadata": {
        "colab": {
          "base_uri": "https://localhost:8080/"
        },
        "id": "4s-mZMKWFmOH",
        "outputId": "e8e195a7-22d8-48df-b2e8-56d6a56b3598"
      },
      "execution_count": null,
      "outputs": [
        {
          "output_type": "stream",
          "name": "stdout",
          "text": [
            "[INFO] Loading images ...\n",
            "[INFO] Processing Pepper__bell___Bacterial_spot ...\n",
            "[INFO] Processing Pepper__bell___healthy ...\n",
            "[INFO] Processing Potato___Early_blight ...\n",
            "[INFO] Processing Potato___healthy ...\n",
            "[INFO] Processing Potato___Late_blight ...\n",
            "[INFO] Processing Tomato__Target_Spot ...\n",
            "[INFO] Processing Tomato__Tomato_mosaic_virus ...\n",
            "[INFO] Processing Tomato__Tomato_YellowLeaf__Curl_Virus ...\n",
            "[INFO] Processing Tomato_Bacterial_spot ...\n",
            "[INFO] Processing Tomato_Early_blight ...\n",
            "[INFO] Processing Tomato_healthy ...\n",
            "[INFO] Processing Tomato_Late_blight ...\n",
            "[INFO] Processing Tomato_Leaf_Mold ...\n",
            "[INFO] Processing Tomato_Septoria_leaf_spot ...\n",
            "[INFO] Processing Tomato_Spider_mites_Two_spotted_spider_mite ...\n",
            "[INFO] Image loading completed\n"
          ]
        }
      ]
    },
    {
      "cell_type": "markdown",
      "source": [
        "Get Size of Processed Image"
      ],
      "metadata": {
        "id": "ZMHT__nlHltl"
      }
    },
    {
      "cell_type": "code",
      "source": [
        "image_size = len(image_list)"
      ],
      "metadata": {
        "id": "XKX7_bj7HmQm"
      },
      "execution_count": null,
      "outputs": []
    },
    {
      "cell_type": "code",
      "source": [
        "label_binarizer = LabelBinarizer()\n",
        "image_labels = label_binarizer.fit_transform(label_list)\n",
        "pickle.dump(label_binarizer,open('label_transform.pkl', 'wb'))\n",
        "n_classes = len(label_binarizer.classes_)"
      ],
      "metadata": {
        "id": "XIfe00VlHqZR"
      },
      "execution_count": null,
      "outputs": []
    },
    {
      "cell_type": "code",
      "source": [
        "print(label_binarizer.classes_)"
      ],
      "metadata": {
        "colab": {
          "base_uri": "https://localhost:8080/"
        },
        "id": "gcAbyh-YHsbd",
        "outputId": "99602f39-9019-41d1-f88f-62e1ebf12cd1"
      },
      "execution_count": null,
      "outputs": [
        {
          "output_type": "stream",
          "name": "stdout",
          "text": [
            "['Pepper__bell___Bacterial_spot' 'Pepper__bell___healthy'\n",
            " 'Potato___Early_blight' 'Potato___Late_blight' 'Potato___healthy'\n",
            " 'Tomato_Bacterial_spot' 'Tomato_Early_blight' 'Tomato_Late_blight'\n",
            " 'Tomato_Leaf_Mold' 'Tomato_Septoria_leaf_spot'\n",
            " 'Tomato_Spider_mites_Two_spotted_spider_mite' 'Tomato__Target_Spot'\n",
            " 'Tomato__Tomato_YellowLeaf__Curl_Virus' 'Tomato__Tomato_mosaic_virus'\n",
            " 'Tomato_healthy']\n"
          ]
        }
      ]
    },
    {
      "cell_type": "code",
      "source": [
        "np_image_list = np.array(image_list, dtype=np.float16) / 225.0"
      ],
      "metadata": {
        "id": "LgnoOlJQHuRG"
      },
      "execution_count": null,
      "outputs": []
    },
    {
      "cell_type": "code",
      "source": [
        "print(\"[INFO] Spliting data to train, test\")\n",
        "x_train, x_test, y_train, y_test = train_test_split(np_image_list, image_labels, test_size=0.2, random_state = 42)"
      ],
      "metadata": {
        "colab": {
          "base_uri": "https://localhost:8080/"
        },
        "id": "KgUE-UW6Hw9D",
        "outputId": "63903525-069e-4eef-cf43-32026263b79c"
      },
      "execution_count": null,
      "outputs": [
        {
          "output_type": "stream",
          "name": "stdout",
          "text": [
            "[INFO] Spliting data to train, test\n"
          ]
        }
      ]
    },
    {
      "cell_type": "code",
      "source": [
        "aug = ImageDataGenerator(\n",
        "    rotation_range=25, width_shift_range=0.1,\n",
        "    height_shift_range=0.1, shear_range=0.2,\n",
        "    zoom_range=0.2,horizontal_flip=True,\n",
        "    fill_mode=\"nearest\")"
      ],
      "metadata": {
        "id": "xw1r1yehHzet"
      },
      "execution_count": null,
      "outputs": []
    },
    {
      "cell_type": "code",
      "source": [
        "model = Sequential()\n",
        "inputShape = (height, width, depth)\n",
        "chanDim = -1\n",
        "if K.image_data_format() == \"channels_first\":\n",
        "    inputShape = (depth, height, width)\n",
        "    chanDim = 1\n",
        "model.add(Conv2D(32, (3, 3), padding=\"same\",input_shape=inputShape))\n",
        "model.add(Activation(\"relu\"))\n",
        "model.add(BatchNormalization(axis=chanDim))\n",
        "model.add(MaxPooling2D(pool_size=(3, 3)))\n",
        "model.add(Dropout(0.25))\n",
        "model.add(Conv2D(64, (3, 3), padding=\"same\"))\n",
        "model.add(Activation(\"relu\"))\n",
        "model.add(BatchNormalization(axis=chanDim))\n",
        "model.add(Conv2D(64, (3, 3), padding=\"same\"))\n",
        "model.add(Activation(\"relu\"))\n",
        "model.add(BatchNormalization(axis=chanDim))\n",
        "model.add(Conv2D(64, (3, 3), padding=\"same\"))\n",
        "model.add(Activation(\"relu\"))\n",
        "model.add(BatchNormalization(axis=chanDim))\n",
        "model.add(MaxPooling2D(pool_size=(2, 2)))\n",
        "model.add(Dropout(0.25))\n",
        "model.add(Conv2D(128, (3, 3), padding=\"same\"))\n",
        "model.add(Activation(\"relu\"))\n",
        "model.add(BatchNormalization(axis=chanDim))\n",
        "model.add(Conv2D(128, (3, 3), padding=\"same\"))\n",
        "model.add(Activation(\"relu\"))\n",
        "model.add(BatchNormalization(axis=chanDim))\n",
        "model.add(MaxPooling2D(pool_size=(2, 2)))\n",
        "model.add(Dropout(0.25))\n",
        "model.add(Flatten())\n",
        "model.add(Dense(1024))\n",
        "model.add(Activation(\"relu\"))\n",
        "model.add(BatchNormalization())\n",
        "model.add(Dropout(0.5))\n",
        "model.add(Dense(n_classes))\n",
        "model.add(Activation(\"softmax\"))"
      ],
      "metadata": {
        "id": "fVWvQyZcH1tm"
      },
      "execution_count": null,
      "outputs": []
    },
    {
      "cell_type": "code",
      "source": [
        "model.summary()"
      ],
      "metadata": {
        "colab": {
          "base_uri": "https://localhost:8080/"
        },
        "id": "FMirColeH9QK",
        "outputId": "17b41248-ad0d-4c3e-d1dc-8b7768a31f3f"
      },
      "execution_count": null,
      "outputs": [
        {
          "output_type": "stream",
          "name": "stdout",
          "text": [
            "Model: \"sequential\"\n",
            "_________________________________________________________________\n",
            " Layer (type)                Output Shape              Param #   \n",
            "=================================================================\n",
            " conv2d (Conv2D)             (None, 100, 100, 32)      896       \n",
            "                                                                 \n",
            " activation (Activation)     (None, 100, 100, 32)      0         \n",
            "                                                                 \n",
            " batch_normalization (BatchN  (None, 100, 100, 32)     128       \n",
            " ormalization)                                                   \n",
            "                                                                 \n",
            " max_pooling2d (MaxPooling2D  (None, 33, 33, 32)       0         \n",
            " )                                                               \n",
            "                                                                 \n",
            " dropout (Dropout)           (None, 33, 33, 32)        0         \n",
            "                                                                 \n",
            " conv2d_1 (Conv2D)           (None, 33, 33, 64)        18496     \n",
            "                                                                 \n",
            " activation_1 (Activation)   (None, 33, 33, 64)        0         \n",
            "                                                                 \n",
            " batch_normalization_1 (Batc  (None, 33, 33, 64)       256       \n",
            " hNormalization)                                                 \n",
            "                                                                 \n",
            " conv2d_2 (Conv2D)           (None, 33, 33, 64)        36928     \n",
            "                                                                 \n",
            " activation_2 (Activation)   (None, 33, 33, 64)        0         \n",
            "                                                                 \n",
            " batch_normalization_2 (Batc  (None, 33, 33, 64)       256       \n",
            " hNormalization)                                                 \n",
            "                                                                 \n",
            " conv2d_3 (Conv2D)           (None, 33, 33, 64)        36928     \n",
            "                                                                 \n",
            " activation_3 (Activation)   (None, 33, 33, 64)        0         \n",
            "                                                                 \n",
            " batch_normalization_3 (Batc  (None, 33, 33, 64)       256       \n",
            " hNormalization)                                                 \n",
            "                                                                 \n",
            " max_pooling2d_1 (MaxPooling  (None, 16, 16, 64)       0         \n",
            " 2D)                                                             \n",
            "                                                                 \n",
            " dropout_1 (Dropout)         (None, 16, 16, 64)        0         \n",
            "                                                                 \n",
            " conv2d_4 (Conv2D)           (None, 16, 16, 128)       73856     \n",
            "                                                                 \n",
            " activation_4 (Activation)   (None, 16, 16, 128)       0         \n",
            "                                                                 \n",
            " batch_normalization_4 (Batc  (None, 16, 16, 128)      512       \n",
            " hNormalization)                                                 \n",
            "                                                                 \n",
            " conv2d_5 (Conv2D)           (None, 16, 16, 128)       147584    \n",
            "                                                                 \n",
            " activation_5 (Activation)   (None, 16, 16, 128)       0         \n",
            "                                                                 \n",
            " batch_normalization_5 (Batc  (None, 16, 16, 128)      512       \n",
            " hNormalization)                                                 \n",
            "                                                                 \n",
            " max_pooling2d_2 (MaxPooling  (None, 8, 8, 128)        0         \n",
            " 2D)                                                             \n",
            "                                                                 \n",
            " dropout_2 (Dropout)         (None, 8, 8, 128)         0         \n",
            "                                                                 \n",
            " flatten (Flatten)           (None, 8192)              0         \n",
            "                                                                 \n",
            " dense (Dense)               (None, 1024)              8389632   \n",
            "                                                                 \n",
            " activation_6 (Activation)   (None, 1024)              0         \n",
            "                                                                 \n",
            " batch_normalization_6 (Batc  (None, 1024)             4096      \n",
            " hNormalization)                                                 \n",
            "                                                                 \n",
            " dropout_3 (Dropout)         (None, 1024)              0         \n",
            "                                                                 \n",
            " dense_1 (Dense)             (None, 15)                15375     \n",
            "                                                                 \n",
            " activation_7 (Activation)   (None, 15)                0         \n",
            "                                                                 \n",
            "=================================================================\n",
            "Total params: 8,725,711\n",
            "Trainable params: 8,722,703\n",
            "Non-trainable params: 3,008\n",
            "_________________________________________________________________\n"
          ]
        }
      ]
    },
    {
      "cell_type": "code",
      "source": [
        "#Compiling Model\n",
        "opt = Adam(lr=INIT_LR, decay=INIT_LR / EPOCHS)\n",
        "# distribution\n",
        "model.compile(loss=\"binary_crossentropy\", optimizer=opt,metrics=[\"accuracy\"])\n",
        "# train the network\n",
        "print(\"[INFO] training network...\")"
      ],
      "metadata": {
        "colab": {
          "base_uri": "https://localhost:8080/"
        },
        "id": "moWe2NveIAYS",
        "outputId": "1a99273d-b24d-4c30-af7e-c3b652645c94"
      },
      "execution_count": null,
      "outputs": [
        {
          "output_type": "stream",
          "name": "stdout",
          "text": [
            "[INFO] training network...\n"
          ]
        },
        {
          "output_type": "stream",
          "name": "stderr",
          "text": [
            "/usr/local/lib/python3.7/dist-packages/keras/optimizer_v2/adam.py:105: UserWarning: The `lr` argument is deprecated, use `learning_rate` instead.\n",
            "  super(Adam, self).__init__(name, **kwargs)\n"
          ]
        }
      ]
    },
    {
      "cell_type": "code",
      "source": [
        "#Fitting Model\n",
        "history = model.fit_generator(\n",
        "    aug.flow(x_train, y_train, batch_size=BS),\n",
        "    validation_data=(x_test, y_test),\n",
        "    steps_per_epoch=len(x_train) // BS,\n",
        "    epochs=EPOCHS, verbose=1\n",
        "    )"
      ],
      "metadata": {
        "colab": {
          "base_uri": "https://localhost:8080/"
        },
        "id": "Dz0_ssn4ICqf",
        "outputId": "dff3c468-cc1d-462f-d914-ef783f32bdb6"
      },
      "execution_count": null,
      "outputs": [
        {
          "metadata": {
            "tags": null
          },
          "name": "stderr",
          "output_type": "stream",
          "text": [
            "/usr/local/lib/python3.7/dist-packages/ipykernel_launcher.py:6: UserWarning: `Model.fit_generator` is deprecated and will be removed in a future version. Please use `Model.fit`, which supports generators.\n",
            "  \n"
          ]
        },
        {
          "output_type": "stream",
          "name": "stdout",
          "text": [
            "Epoch 1/35\n",
            "91/91 [==============================] - 133s 1s/step - loss: 0.5841 - accuracy: 0.2496 - val_loss: 0.4045 - val_accuracy: 0.0575\n",
            "Epoch 2/35\n",
            "91/91 [==============================] - 125s 1s/step - loss: 0.1863 - accuracy: 0.5140 - val_loss: 0.4316 - val_accuracy: 0.0629\n",
            "Epoch 3/35\n",
            "91/91 [==============================] - 125s 1s/step - loss: 0.1401 - accuracy: 0.6310 - val_loss: 0.5952 - val_accuracy: 0.0752\n",
            "Epoch 4/35\n",
            "91/91 [==============================] - 125s 1s/step - loss: 0.1212 - accuracy: 0.6916 - val_loss: 0.5997 - val_accuracy: 0.1108\n",
            "Epoch 5/35\n",
            "91/91 [==============================] - 127s 1s/step - loss: 0.1084 - accuracy: 0.7203 - val_loss: 0.5701 - val_accuracy: 0.1874\n",
            "Epoch 6/35\n",
            "91/91 [==============================] - 126s 1s/step - loss: 0.1024 - accuracy: 0.7404 - val_loss: 0.3652 - val_accuracy: 0.3119\n",
            "Epoch 7/35\n",
            "91/91 [==============================] - 126s 1s/step - loss: 0.0926 - accuracy: 0.7743 - val_loss: 0.1482 - val_accuracy: 0.6129\n",
            "Epoch 8/35\n",
            "91/91 [==============================] - 126s 1s/step - loss: 0.0857 - accuracy: 0.7902 - val_loss: 0.6530 - val_accuracy: 0.2763\n",
            "Epoch 9/35\n",
            "91/91 [==============================] - 124s 1s/step - loss: 0.0793 - accuracy: 0.8134 - val_loss: 0.3440 - val_accuracy: 0.4309\n",
            "Epoch 10/35\n",
            "91/91 [==============================] - 129s 1s/step - loss: 0.0750 - accuracy: 0.8221 - val_loss: 0.2553 - val_accuracy: 0.5239\n",
            "Epoch 11/35\n",
            "91/91 [==============================] - 126s 1s/step - loss: 0.0736 - accuracy: 0.8210 - val_loss: 0.1471 - val_accuracy: 0.6772\n",
            "Epoch 12/35\n",
            "91/91 [==============================] - 126s 1s/step - loss: 0.0717 - accuracy: 0.8235 - val_loss: 1.2495 - val_accuracy: 0.3611\n",
            "Epoch 13/35\n",
            "91/91 [==============================] - 123s 1s/step - loss: 0.0722 - accuracy: 0.8231 - val_loss: 0.1074 - val_accuracy: 0.7387\n",
            "Epoch 14/35\n",
            "91/91 [==============================] - 123s 1s/step - loss: 0.0655 - accuracy: 0.8460 - val_loss: 0.1004 - val_accuracy: 0.7674\n",
            "Epoch 15/35\n",
            "91/91 [==============================] - 122s 1s/step - loss: 0.0593 - accuracy: 0.8657 - val_loss: 0.1905 - val_accuracy: 0.6265\n",
            "Epoch 16/35\n",
            "91/91 [==============================] - 124s 1s/step - loss: 0.0559 - accuracy: 0.8723 - val_loss: 0.1489 - val_accuracy: 0.6785\n",
            "Epoch 17/35\n",
            "91/91 [==============================] - 124s 1s/step - loss: 0.0556 - accuracy: 0.8768 - val_loss: 0.2527 - val_accuracy: 0.5663\n",
            "Epoch 18/35\n",
            "91/91 [==============================] - 123s 1s/step - loss: 0.0470 - accuracy: 0.8955 - val_loss: 0.1109 - val_accuracy: 0.7743\n",
            "Epoch 19/35\n",
            "91/91 [==============================] - 124s 1s/step - loss: 0.0469 - accuracy: 0.8930 - val_loss: 0.1101 - val_accuracy: 0.7483\n",
            "Epoch 20/35\n",
            "91/91 [==============================] - 122s 1s/step - loss: 0.0463 - accuracy: 0.8962 - val_loss: 0.1248 - val_accuracy: 0.7346\n",
            "Epoch 21/35\n",
            "91/91 [==============================] - 124s 1s/step - loss: 0.0444 - accuracy: 0.8969 - val_loss: 0.1197 - val_accuracy: 0.7497\n",
            "Epoch 22/35\n",
            "91/91 [==============================] - 122s 1s/step - loss: 0.0419 - accuracy: 0.9121 - val_loss: 0.1504 - val_accuracy: 0.6977\n",
            "Epoch 23/35\n",
            "91/91 [==============================] - 125s 1s/step - loss: 0.0394 - accuracy: 0.9145 - val_loss: 0.1817 - val_accuracy: 0.6498\n",
            "Epoch 24/35\n",
            "91/91 [==============================] - 128s 1s/step - loss: 0.0358 - accuracy: 0.9283 - val_loss: 0.2383 - val_accuracy: 0.6416\n",
            "Epoch 25/35\n",
            "91/91 [==============================] - 128s 1s/step - loss: 0.0376 - accuracy: 0.9162 - val_loss: 0.0878 - val_accuracy: 0.7921\n",
            "Epoch 26/35\n",
            "91/91 [==============================] - 124s 1s/step - loss: 0.0364 - accuracy: 0.9232 - val_loss: 0.6814 - val_accuracy: 0.3885\n",
            "Epoch 27/35\n",
            "91/91 [==============================] - 128s 1s/step - loss: 0.0354 - accuracy: 0.9235 - val_loss: 0.1073 - val_accuracy: 0.7524\n",
            "Epoch 28/35\n",
            "91/91 [==============================] - 129s 1s/step - loss: 0.0387 - accuracy: 0.9148 - val_loss: 0.2051 - val_accuracy: 0.7073\n",
            "Epoch 29/35\n",
            "91/91 [==============================] - 124s 1s/step - loss: 0.0345 - accuracy: 0.9277 - val_loss: 0.2543 - val_accuracy: 0.6224\n",
            "Epoch 30/35\n",
            "91/91 [==============================] - 123s 1s/step - loss: 0.0325 - accuracy: 0.9335 - val_loss: 0.2135 - val_accuracy: 0.6101\n",
            "Epoch 31/35\n",
            "91/91 [==============================] - 122s 1s/step - loss: 0.0318 - accuracy: 0.9311 - val_loss: 0.4762 - val_accuracy: 0.4405\n",
            "Epoch 32/35\n",
            "91/91 [==============================] - 124s 1s/step - loss: 0.0402 - accuracy: 0.9117 - val_loss: 0.2456 - val_accuracy: 0.6430\n",
            "Epoch 33/35\n",
            "91/91 [==============================] - 123s 1s/step - loss: 0.0346 - accuracy: 0.9169 - val_loss: 0.2322 - val_accuracy: 0.6990\n",
            "Epoch 34/35\n",
            "91/91 [==============================] - 125s 1s/step - loss: 0.0357 - accuracy: 0.9256 - val_loss: 0.1823 - val_accuracy: 0.6772\n",
            "Epoch 35/35\n",
            "91/91 [==============================] - 124s 1s/step - loss: 0.0354 - accuracy: 0.9256 - val_loss: 0.1638 - val_accuracy: 0.7073\n"
          ]
        }
      ]
    },
    {
      "cell_type": "markdown",
      "source": [
        "Model Accuracy"
      ],
      "metadata": {
        "id": "Xq2ScxnRamQV"
      }
    },
    {
      "cell_type": "code",
      "source": [
        "print(\"[INFO] Calculating model accuracy\")\n",
        "scores = model.evaluate(x_test, y_test)\n",
        "print(f\"Test Accuracy: {scores[1]*100}\")"
      ],
      "metadata": {
        "colab": {
          "base_uri": "https://localhost:8080/"
        },
        "id": "wvjKGNsMIEkA",
        "outputId": "a67fdb9c-2b90-4320-f820-312b7e587502"
      },
      "execution_count": null,
      "outputs": [
        {
          "output_type": "stream",
          "name": "stdout",
          "text": [
            "[INFO] Calculating model accuracy\n",
            "23/23 [==============================] - 11s 484ms/step - loss: 0.1638 - accuracy: 0.7073\n",
            "Test Accuracy: 70.72503566741943\n"
          ]
        }
      ]
    },
    {
      "cell_type": "code",
      "source": [
        "model.save('my_model.h5')"
      ],
      "metadata": {
        "id": "Wb4H_Gn3IHtQ"
      },
      "execution_count": null,
      "outputs": []
    },
    {
      "cell_type": "code",
      "source": [
        "scores = model.evaluate(x_train, y_train)\n",
        "print(f\"Test Accuracy: {scores[1]*100}\")"
      ],
      "metadata": {
        "colab": {
          "base_uri": "https://localhost:8080/"
        },
        "id": "Da3WFPVoIKA9",
        "outputId": "ac0aa1aa-f2aa-4d70-e73a-73bc370d6abb"
      },
      "execution_count": null,
      "outputs": [
        {
          "output_type": "stream",
          "name": "stdout",
          "text": [
            "92/92 [==============================] - 29s 312ms/step - loss: 0.1454 - accuracy: 0.7254\n",
            "Test Accuracy: 72.54365086555481\n"
          ]
        }
      ]
    }
  ],
  "metadata": {
    "colab": {
      "provenance": []
    },
    "kernelspec": {
      "display_name": "Python 3",
      "name": "python3"
    },
    "language_info": {
      "name": "python"
    }
  },
  "nbformat": 4,
  "nbformat_minor": 0
}